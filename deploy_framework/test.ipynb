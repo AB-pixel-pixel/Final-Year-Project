{
 "cells": [
  {
   "cell_type": "code",
   "execution_count": 18,
   "metadata": {},
   "outputs": [
    {
     "name": "stdout",
     "output_type": "stream",
     "text": [
      "0.8\n"
     ]
    }
   ],
   "source": [
    "a = {'episode_results': {0: {'finish': 8, 'total': 10}, 1: {'finish': 7, 'total': 10}, 2: {'finish': 8, 'total': 10}, 3: {'finish': 7, 'total': 10}, 4: {'finish': 9, 'total': 10}, 5: {'finish': 10, 'total': 10}, 6: {'finish': 9, 'total': 10}, 7: {'finish': 7, 'total': 10}, 8: {'finish': 8, 'total': 10}, 9: {'finish': 7, 'total': 10}, 10: {'finish': 7, 'total': 10}, 11: {'finish': 8, 'total': 10}, 12: {'finish': 10, 'total': 10}, 13: {'finish': 9, 'total': 10}, 14: {'finish': 8, 'total': 10}, 15: {'finish': 8, 'total': 10}, 16: {'finish': 8, 'total': 10}, 17: {'finish': 7, 'total': 10}, 18: {'finish': 8, 'total': 10}, 19: {'finish': 9, 'total': 10}, 20: {'finish': 7, 'total': 10}, 21: {'finish':8, 'total': 10}, 22: {'finish': 8, 'total': 10}, 23: {'finish': 7, 'total': 10}}, 'avg_finish': 0.7625000000000001}\n",
    "total_finish = 0\n",
    "total_total = 0\n",
    "for key, item in a['episode_results'].items():\n",
    "    total_finish += item['finish']\n",
    "    total_total += item['total']\n",
    "\n",
    "print(total_finish/total_total)"
   ]
  },
  {
   "cell_type": "markdown",
   "metadata": {},
   "source": [
    "fix scene 3,15,20,21,22,23"
   ]
  },
  {
   "cell_type": "code",
   "execution_count": null,
   "metadata": {},
   "outputs": [
    {
     "name": "stdout",
     "output_type": "stream",
     "text": [
      "0.8\n"
     ]
    }
   ],
   "source": []
  }
 ],
 "metadata": {
  "kernelspec": {
   "display_name": "ai2thor_bin",
   "language": "python",
   "name": "python3"
  },
  "language_info": {
   "codemirror_mode": {
    "name": "ipython",
    "version": 3
   },
   "file_extension": ".py",
   "mimetype": "text/x-python",
   "name": "python",
   "nbconvert_exporter": "python",
   "pygments_lexer": "ipython3",
   "version": "3.9.19"
  }
 },
 "nbformat": 4,
 "nbformat_minor": 2
}
