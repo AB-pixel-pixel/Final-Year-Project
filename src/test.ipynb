{
 "cells": [
  {
   "cell_type": "code",
   "execution_count": null,
   "metadata": {},
   "outputs": [
    {
     "name": "stderr",
     "output_type": "stream",
     "text": [
      "/media/airs/BIN/baseline/LLaMAR_env/lib/python3.10/site-packages/tqdm/auto.py:21: TqdmWarning: IProgress not found. Please update jupyter and ipywidgets. See https://ipywidgets.readthedocs.io/en/stable/user_install.html\n",
      "  from .autonotebook import tqdm as notebook_tqdm\n"
     ]
    },
    {
     "ename": "NameError",
     "evalue": "name 'dataset' is not defined",
     "output_type": "error",
     "traceback": [
      "\u001b[0;31m---------------------------------------------------------------------------\u001b[0m",
      "\u001b[0;31mNameError\u001b[0m                                 Traceback (most recent call last)",
      "Cell \u001b[0;32mIn[1], line 61\u001b[0m\n\u001b[1;32m     50\u001b[0m         \u001b[38;5;28;01mreturn\u001b[39;00m {\n\u001b[1;32m     51\u001b[0m             \u001b[38;5;124m'\u001b[39m\u001b[38;5;124mframe_embedding\u001b[39m\u001b[38;5;124m'\u001b[39m: torch\u001b[38;5;241m.\u001b[39mstack(frame_embedding),\n\u001b[1;32m     52\u001b[0m             \u001b[38;5;124m'\u001b[39m\u001b[38;5;124magent_id_embedding\u001b[39m\u001b[38;5;124m'\u001b[39m: torch\u001b[38;5;241m.\u001b[39mstack(agent_id_embedding),\n\u001b[0;32m   (...)\u001b[0m\n\u001b[1;32m     57\u001b[0m             \u001b[38;5;124m'\u001b[39m\u001b[38;5;124mreward\u001b[39m\u001b[38;5;124m'\u001b[39m: torch\u001b[38;5;241m.\u001b[39mstack(reward)\n\u001b[1;32m     58\u001b[0m         }\n\u001b[1;32m     60\u001b[0m \u001b[38;5;66;03m# 使用自定义数据加载器\u001b[39;00m\n\u001b[0;32m---> 61\u001b[0m dataloader \u001b[38;5;241m=\u001b[39m CustomDataLoader(\u001b[43mdataset\u001b[49m, batch_size\u001b[38;5;241m=\u001b[39m\u001b[38;5;241m32\u001b[39m, shuffle\u001b[38;5;241m=\u001b[39m\u001b[38;5;28;01mTrue\u001b[39;00m)\n\u001b[1;32m     62\u001b[0m num_epochs \u001b[38;5;241m=\u001b[39m \u001b[38;5;241m2\u001b[39m\n\u001b[1;32m     63\u001b[0m \u001b[38;5;28;01mfor\u001b[39;00m epoch \u001b[38;5;129;01min\u001b[39;00m \u001b[38;5;28mrange\u001b[39m(num_epochs):\n",
      "\u001b[0;31mNameError\u001b[0m: name 'dataset' is not defined"
     ]
    }
   ],
   "source": [
    "import numpy as np\n",
    "import torch\n",
    "import torch.nn as nn\n",
    "class CustomDataLoader:\n",
    "    def __init__(self, data, batch_size=32, shuffle=True):\n",
    "        # 初始化函数，用于初始化数据集\n",
    "        self.data = data\n",
    "        # 数据集\n",
    "        self.batch_size = batch_size\n",
    "        # 每个batch的大小\n",
    "        self.shuffle = shuffle\n",
    "        # 是否打乱数据集\n",
    "        self.indices = np.arange(len(data))\n",
    "        # 创建一个索引数组，长度为数据集的长度\n",
    "        if shuffle:\n",
    "            np.random.shuffle(self.indices)\n",
    "            # 如果打乱数据集，则随机打乱索引数组\n",
    "        self.index = 0\n",
    "    \n",
    "    def __iter__(self):\n",
    "        return self\n",
    "    \n",
    "    def __next__(self):\n",
    "        if self.index >= len(self.data):\n",
    "            raise StopIteration\n",
    "        \n",
    "        batch_indices = self.indices[self.index:self.index + self.batch_size]\n",
    "        batch = [self.data[i] for i in batch_indices]\n",
    "        \n",
    "        # 确保每个字段的大小一致\n",
    "        frame_embedding = [item['frame_embedding'] for item in batch]\n",
    "        agent_id_embedding = [item['agent_id_embedding'] for item in batch]\n",
    "        state_embedding = [item['state_embedding'] for item in batch]\n",
    "        task_embedding = [item['task_embedding'] for item in batch]\n",
    "        action_embedding = [item['action_embedding'] for item in batch]\n",
    "        candidate_actions_embedding = [item['candidate_actions_embedding'] for item in batch]\n",
    "        reward = [item['reward'] for item in batch]\n",
    "        \n",
    "        # # 确保所有候选动作嵌入的大小一致\n",
    "        # max_ca_length = max([len(ca) for ca in candidate_actions_embedding])\n",
    "        # for i in range(len(candidate_actions_embedding)):\n",
    "        #     ca_list = candidate_actions_embedding[i]\n",
    "        #     if len(ca_list) < max_ca_length:\n",
    "        #         # 填充到最大长度\n",
    "        #         padded_ca_list = ca_list + [torch.zeros_like(ca_list[0]) for _ in range(max_ca_length - len(ca_list))]\n",
    "        #         candidate_actions_embedding[i] = padded_ca_list\n",
    "        \n",
    "        self.index += self.batch_size\n",
    "        \n",
    "        return {\n",
    "            'frame_embedding': torch.stack(frame_embedding),\n",
    "            'agent_id_embedding': torch.stack(agent_id_embedding),\n",
    "            'state_embedding': torch.stack(state_embedding),\n",
    "            'task_embedding': torch.stack(task_embedding),\n",
    "            'action_embedding': torch.stack(action_embedding),\n",
    "            'candidate_actions_embedding': candidate_actions_embedding,\n",
    "            'reward': torch.stack(reward)\n",
    "        }\n",
    "\n",
    "# 使用自定义数据加载器\n",
    "dataloader = CustomDataLoader(dataset, batch_size=32, shuffle=True)\n",
    "num_epochs = 2\n",
    "for epoch in range(num_epochs):\n",
    "    for batch in dataloader:\n",
    "        print(\"batch:\\n\",batch)\n",
    "        "
   ]
  },
  {
   "cell_type": "code",
   "execution_count": null,
   "metadata": {},
   "outputs": [],
   "source": []
  },
  {
   "cell_type": "code",
   "execution_count": null,
   "metadata": {},
   "outputs": [],
   "source": []
  }
 ],
 "metadata": {
  "kernelspec": {
   "display_name": "Python 3",
   "language": "python",
   "name": "python3"
  },
  "language_info": {
   "codemirror_mode": {
    "name": "ipython",
    "version": 3
   },
   "file_extension": ".py",
   "mimetype": "text/x-python",
   "name": "python",
   "nbconvert_exporter": "python",
   "pygments_lexer": "ipython3",
   "version": "3.10.16"
  }
 },
 "nbformat": 4,
 "nbformat_minor": 2
}
